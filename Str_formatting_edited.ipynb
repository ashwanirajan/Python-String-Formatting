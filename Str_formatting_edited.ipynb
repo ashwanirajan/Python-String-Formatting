{
 "cells": [
  {
   "cell_type": "markdown",
   "metadata": {},
   "source": [
    "# STRING FORMATTING IN PYTHON"
   ]
  },
  {
   "cell_type": "markdown",
   "metadata": {},
   "source": [
    "We can broadly classify string formatting methods into three sub-categories:\n",
    "    1. \"Old Style\" string formatting\n",
    "    2.  Using \".format()\" Method\n",
    "    3.  Using python f-strings"
   ]
  },
  {
   "cell_type": "markdown",
   "metadata": {},
   "source": [
    "## Old style string formatting"
   ]
  },
  {
   "cell_type": "markdown",
   "metadata": {},
   "source": [
    "String object has a built-in operator called the string modulo operator(% operator), which we can use to format strings. Python uses C-style string formatting to create formatted strings.\n",
    "The \"%\" operator is used when we want to combine a set of variables in a tuple, together with a string containing normal text along with \"argument specifiers\", special symbols like \"%s\" and \"%d\"."
   ]
  },
  {
   "cell_type": "markdown",
   "metadata": {},
   "source": [
    "Here are the basic argument specifiers with their corresponding data types that are used frequently:\n",
    "    \n",
    "    %s = String (or any object needed to be represented as strings, like numbers)\n",
    "    %d = Integers\n",
    "    %f = Floating point numbers\n",
    "    %.(number of digits)f - Floating point numbers with a fixed number of digits to the right.\n",
    "    %x/%X = Integers in hex representation (lowercase/uppercase)\n",
    "    %o = octal"
   ]
  },
  {
   "cell_type": "markdown",
   "metadata": {},
   "source": [
    "Suppose we want to greet a new user by his name. We add the string to be printed in quotes along with the appropriate argument specifier and then we add the variable whose value is supposed to replace the argument specifier.  "
   ]
  },
  {
   "cell_type": "code",
   "execution_count": 2,
   "metadata": {},
   "outputs": [
    {
     "name": "stdout",
     "output_type": "stream",
     "text": [
      "Hello, Rajan\n"
     ]
    }
   ],
   "source": [
    " name = \"Rajan\"\n",
    " print(\"Hello, %s\" % name)"
   ]
  },
  {
   "cell_type": "markdown",
   "metadata": {},
   "source": [
    "In order to insert more than one variable, we use a tuple of those variables. Here’s how we would do that:"
   ]
  },
  {
   "cell_type": "code",
   "execution_count": 6,
   "metadata": {
    "scrolled": true
   },
   "outputs": [
    {
     "name": "stdout",
     "output_type": "stream",
     "text": [
      "Hello Rahul Singh. Your current balance is INR 5236.250000.\n"
     ]
    }
   ],
   "source": [
    "print(\"Hello %s %s. Your current balance is INR %f.\" % (\"Rahul\", \"Singh\", 5236.25))"
   ]
  },
  {
   "cell_type": "code",
   "execution_count": null,
   "metadata": {},
   "outputs": [],
   "source": [
    "Of course, we can arrage the above code like this to make things look better."
   ]
  },
  {
   "cell_type": "code",
   "execution_count": 8,
   "metadata": {},
   "outputs": [
    {
     "name": "stdout",
     "output_type": "stream",
     "text": [
      "Hello Rahul Singh. Your current balance is INR 5236.25.\n"
     ]
    }
   ],
   "source": [
    "data = (\"Rahul\", \"Singh\", 5236.25)\n",
    "format_string = \"Hello %s %s. Your current balance is INR %.2f.\"\n",
    "\n",
    "print(format_string % data)"
   ]
  },
  {
   "cell_type": "markdown",
   "metadata": {},
   "source": [
    "## General syntax for a format argument specifier."
   ]
  },
  {
   "cell_type": "markdown",
   "metadata": {},
   "source": [
    "### %[key][flags][width][.precision][length type][conversion type]  %[values]\n"
   ]
  },
  {
   "cell_type": "markdown",
   "metadata": {},
   "source": [
    "We are already familiar to the basic parts of this syntax which include:\n",
    "\n",
    "1. % : It marks the beginning of the argument specifier.\n",
    "\n",
    "2. Conversion type: This specifies the data type.\n",
    "\n",
    "3. values: A number, string or a container(tuple) with values to substitute for the argument specifier."
   ]
  },
  {
   "cell_type": "markdown",
   "metadata": {},
   "source": [
    "#---------------------------------------New addition------------------------------------\n",
    "\n",
    "Note 1: the above syntax works for strings as well, and in case of strings, the precision is the number of characters in string.\n",
    "\n",
    "#---------------------------------------New addition------------------------------------"
   ]
  },
  {
   "cell_type": "code",
   "execution_count": null,
   "metadata": {},
   "outputs": [],
   "source": [
    "##This example shows simple string formatting\n",
    "print(\"%\")\n",
    "print(\"%s %s\" % ('foo', 'bar'))\n"
   ]
  },
  {
   "cell_type": "markdown",
   "metadata": {},
   "source": [
    "4. key : Optional. Mapping key, consisting of a parenthesised sequence of characters (for example, (name_of_key))."
   ]
  },
  {
   "cell_type": "code",
   "execution_count": 31,
   "metadata": {
    "scrolled": true
   },
   "outputs": [
    {
     "name": "stdout",
     "output_type": "stream",
     "text": [
      "10\n"
     ]
    }
   ],
   "source": [
    "##This example shows the use of keys\n",
    "dct = {'foo': 10, 'bar': 20}\n",
    "\n",
    "print(\"%(foo)s\" % dct)"
   ]
  },
  {
   "cell_type": "markdown",
   "metadata": {},
   "source": [
    "5. width : (Optional) This specifies the minimum total width i.e. the total number of characters to be shown. If  the total number of characters are less than the width specified, then blank space(\" \") compensates the deficiency else if the total number of characters are more than the width specified, the width is automatically set to be equal to the total number of characters.\n",
    "\n",
    "#---------------------------------------New addition------------------------------------\n",
    "\n",
    "If specified as an ‘*’ (asterisk), the actual width is read from the next element of the tuple in values, and the object to convert comes after the minimum field width and optional precision."
   ]
  },
  {
   "cell_type": "code",
   "execution_count": 22,
   "metadata": {},
   "outputs": [
    {
     "name": "stdout",
     "output_type": "stream",
     "text": [
      "Total number of students:240. Total number of girls: 120\n",
      "An Octal:     31\n",
      "|       BMI| = |      171.827|\n"
     ]
    }
   ],
   "source": [
    "# print integer value \n",
    "print(\"Total number of students:%2d. Total number of girls:%4d\" %(240, 120)) \n",
    "  \n",
    "# print octal value \n",
    "print(\"An Octal:%7o\" %25) \n",
    "#---------------------------------------New addition------------------------------------\n",
    "#example of using asterisk\n",
    "print('|%*.3s| = |%*.3f|' % (10, 'BMI_index', 13, 171.8269))\n",
    "\n",
    "#---------------------------------------New addition------------------------------------"
   ]
  },
  {
   "cell_type": "markdown",
   "metadata": {},
   "source": [
    "6. Conversion flags: (Optional) Conversion flags affect the result of some conversion types. Here are some examples:\n",
    "    \n",
    "    ‘0’ : The conversion will be zero padded for numeric values.\n",
    "    \n",
    "    ‘-‘ : The converted value is left adjusted (overrides the ‘0’ conversion if both are given).\n",
    "\n",
    "    ‘ ‘ : (a space) A blank should be left before a positive number (or empty string) produced by a signed   conversion.\n",
    "    \n",
    "    ‘+’ : A sign character (‘+’ or ‘-‘) will precede the conversion(this overrides a “space” flag)."
   ]
  },
  {
   "cell_type": "markdown",
   "metadata": {},
   "source": [
    "#---------------------------------------New addition------------------------------------\n",
    "\n",
    "Note 2: please note this exception that either including the sign flag or including negative sign with the variable to be replaced always overrides the space flag. So anything which forces python to add a sign to the number also overrides the space flag. \n",
    "\n",
    "#---------------------------------------New addition------------------------------------\n"
   ]
  },
  {
   "cell_type": "code",
   "execution_count": 74,
   "metadata": {},
   "outputs": [
    {
     "name": "stdout",
     "output_type": "stream",
     "text": [
      "1\n",
      "001\n"
     ]
    }
   ],
   "source": [
    "# This Example shows usage of zero padding and width flags.\n",
    "print(\"%d\" % 1)   \n",
    "#This one will have a width of 3 digits but blank space(' ') replaced by 0\n",
    "print(\"%03d\" % 1)"
   ]
  },
  {
   "cell_type": "code",
   "execution_count": 75,
   "metadata": {
    "scrolled": true
   },
   "outputs": [
    {
     "name": "stdout",
     "output_type": "stream",
     "text": [
      "1\n",
      "This one will have trailing spaces 1    |\n",
      "This one will again have trailing spaces and not zeroes 1    |\n"
     ]
    }
   ],
   "source": [
    "# This Example shows usage of left adjust flag.\n",
    "print( \"%d\" % 1)   \n",
    "\n",
    "print( \"This one will have 5 trailing spaces %-5d|\" % 1)\n",
    "\n",
    "#since trailing '-' overrides '0'\n",
    "print( \"This one will again have 5 trailing spaces and not 5 zeroes %0-5d|\" % 1)\n"
   ]
  },
  {
   "cell_type": "code",
   "execution_count": 9,
   "metadata": {},
   "outputs": [
    {
     "name": "stdout",
     "output_type": "stream",
     "text": [
      "No space:1\n",
      "No space:-1\n",
      "One blank space character present:+1\n",
      "No space:-1\n"
     ]
    }
   ],
   "source": [
    "# This Example shows usage of space flag.\n",
    "print( 'No space:%d' % 1)    \n",
    "\n",
    "print( 'No space:%d' % -1)\n",
    "\n",
    "print( 'One blank space character present:% d'%1)\n",
    "\n",
    "#---------------------------------------New addition------------------------------------\n",
    "\n",
    "#please note this exception that either including the sign flag \n",
    "#or including negative sign with the variable to be replaced \n",
    "#always overrides the space flag. So anything which forces python to add\n",
    "#a sign to the number also overrides the space flag. -----------------------------------------------(Note 2)\n",
    "print( 'No space:%   d' % -1)\n",
    "#---------------------------------------New addition------------------------------------"
   ]
  },
  {
   "cell_type": "code",
   "execution_count": 97,
   "metadata": {},
   "outputs": [
    {
     "name": "stdout",
     "output_type": "stream",
     "text": [
      "No sign: 1\n",
      "Sign is included: +1\n",
      "default sign: -1\n",
      "Sign is included but space is ignored because of sign flag:+1\n",
      "Default sign is added but space is not included because of the sign flag:-1\n",
      "No sign flag hence space is added: 1\n"
     ]
    }
   ],
   "source": [
    "# This Example shows usage of sign flag.\n",
    "print( 'No sign:% d' % 1)    \n",
    "\n",
    "print( 'Sign is included: % +d' % 1)\n",
    "\n",
    "print( 'default sign: %d' % -1)\n",
    "\n",
    "print( 'Sign is included but space is ignored because of sign flag:%        +d' % 1)\n",
    "\n",
    "print( 'Default sign is added but space is not included because of the sign flag:% +d' % -1)\n",
    "\n",
    "print( 'No sign flag hence space is added:% d' % 1)\n"
   ]
  },
  {
   "cell_type": "markdown",
   "metadata": {},
   "source": [
    "\n",
    "7. precision:(Optional) Precision is specified as a ‘.’ (dot) followed by the number of digits required after decimal. \n",
    "\n",
    "#---------------------------------------New addition------------------------------------\n",
    "\n",
    " If specified as ‘*’ (an asterisk), the precision is read from the next element of the tuple in values.\n",
    "8. length type: A length modifier (h, l, or L) may be present, but is ignored as it is not necessary for Python. Example %ld is identical to %d."
   ]
  },
  {
   "cell_type": "code",
   "execution_count": 19,
   "metadata": {
    "scrolled": true
   },
   "outputs": [
    {
     "name": "stdout",
     "output_type": "stream",
     "text": [
      "Your Roll No. is:  13. Your marks are: 5.33\n",
      "BMI : 188.84\n",
      "this is an example using asterisk : BMI = 171.827\n",
      " 000031\n",
      "    3.221E+02\n",
      "3.45779E+03\n"
     ]
    }
   ],
   "source": [
    "# print integer and float value \n",
    "print(\"Your Roll No. is: %3d. Your marks are:%5.2f\" %(13, 05.333))\n",
    "# '%5.2f' here 5 is the number of characters(width) and 2 is the number of digits allowed after decimal \n",
    "print(\"BMI : %.2f\" %188.83667)\n",
    "\n",
    "#---------------------------------------New addition------------------------------------\n",
    "\n",
    "#example of using asterisk to fix precision\n",
    "print('this is an example using asterisk : %.*s = %.*f' % (3, 'BMI_index', 3, 171.8269))\n",
    "\n",
    "#---------------------------------------New addition------------------------------------\n",
    "\n",
    "# print octal value \n",
    "print(\"%7.6o\"% (25))\n",
    "\n",
    "# print exponential value \n",
    "print(\"%13.3E\"% (322.12499636)) \n",
    "print(\"%2.5E\"% (3457.7878453))\n",
    "# '%9.3E' Here, 13 = width (including space padding) and \n",
    "# 3 = no. of decimals allowed after decimal, and E specifies the exponential format"
   ]
  },
  {
   "cell_type": "code",
   "execution_count": 23,
   "metadata": {},
   "outputs": [
    {
     "name": "stdout",
     "output_type": "stream",
     "text": [
      "|     format|\n",
      "|forma      |\n"
     ]
    }
   ],
   "source": [
    "#---------------------------------------New addition------------------------------------\n",
    "\n",
    "\n",
    "#Refer to the Note 1.\n",
    "#Note 1: the above syntax works for strings as well, and in case of strings, \n",
    "#the precision is the number of characters in string.\n",
    "\n",
    "##examples of string padding and truncating\n",
    "print('|%11.6s|' % ('formatting'))\n",
    "print('|%-11.5s|' % ('formatting'))\n",
    "\n",
    "#---------------------------------------New addition------------------------------------\n"
   ]
  },
  {
   "cell_type": "markdown",
   "metadata": {},
   "source": [
    "# Using \"format()\" method"
   ]
  },
  {
   "cell_type": "markdown",
   "metadata": {},
   "source": [
    "We use the \"format\" method to perform string formatiing. Each string object has access to the format method, which allows substituting values into the string at designated locations. We mark the designated locations by \"{ }\"(curly braces). Format method takes all the variables to be substituted as parameters. Look at the below example for better understading. "
   ]
  },
  {
   "cell_type": "code",
   "execution_count": 2,
   "metadata": {},
   "outputs": [
    {
     "data": {
      "text/plain": [
       "'My name is Rajan and I am 26 years old.'"
      ]
     },
     "execution_count": 2,
     "metadata": {},
     "output_type": "execute_result"
    }
   ],
   "source": [
    "name, age = \"Rajan\", 26\n",
    "string_template = 'My name is {0} and I am {1} years old.'\n",
    "string_template.format(name, age)"
   ]
  },
  {
   "cell_type": "markdown",
   "metadata": {},
   "source": [
    "Generally, we use numbers to map the designated locations to variables as shown above. However, if the braces are left blank,Python will substitute the variables in the order in which they are passed to format."
   ]
  },
  {
   "cell_type": "code",
   "execution_count": 4,
   "metadata": {},
   "outputs": [
    {
     "data": {
      "text/plain": [
       "'My name is Rajan and I am 26 years old. I enjoy singing and reading.'"
      ]
     },
     "execution_count": 4,
     "metadata": {},
     "output_type": "execute_result"
    }
   ],
   "source": [
    "hobby1, hobby2 = \"singing\", \"reading\"\n",
    "string_template = 'My name is {} and I am {} years old. I enjoy {} and {}.'\n",
    "string_template.format(name, age, hobby1, hobby2)"
   ]
  },
  {
   "cell_type": "markdown",
   "metadata": {},
   "source": [
    "We can shorten the syntax by combining the template declaration line directly with \"format()\" method."
   ]
  },
  {
   "cell_type": "code",
   "execution_count": 5,
   "metadata": {},
   "outputs": [
    {
     "data": {
      "text/plain": [
       "'My name is Rajan and I am 26 years old. I enjoy singing and reading.'"
      ]
     },
     "execution_count": 5,
     "metadata": {},
     "output_type": "execute_result"
    }
   ],
   "source": [
    "'My name is {} and I am {} years old. I enjoy {} and {}.'.format(name, age, hobby1, hobby2)"
   ]
  },
  {
   "cell_type": "markdown",
   "metadata": {},
   "source": [
    "Now let us look at the syntax and have a general understanding of format method."
   ]
  },
  {
   "cell_type": "markdown",
   "metadata": {},
   "source": [
    "### Syntax of format() method\n",
    "\n",
    "string_template.format(x0, x1, ..., key0=a, key1=b, ...)\n",
    "\n",
    "Here x0, x1,... are positional arguments and, key0, key1,... are keyword arguments with values a, b,... respectively.\n",
    "\n",
    "And string_template is a string with placeholders al certain positions where we need the variables to be substituted."
   ]
  },
  {
   "cell_type": "markdown",
   "metadata": {},
   "source": [
    "format() method can take any number of parameters as input. The parameters are divided into two types:\n",
    "\n",
    "Positional parameters are the list of parameters that can be accessed using the index of parameter inside curly braces-{index}\n",
    "Keyword parameters are the list of parameters of type key=value, that can be accessed using the key of parameter inside curly braces-{key}\n",
    "\n",
    "Please look at the different examples given below."
   ]
  },
  {
   "cell_type": "code",
   "execution_count": 7,
   "metadata": {},
   "outputs": [
    {
     "name": "stdout",
     "output_type": "stream",
     "text": [
      "Hello Rajan, your BMI is 188.3675.\n",
      "Hello Rajan, your BMI is 188.3675.\n",
      "Hello Rajan, your BMI is 188.3675.\n"
     ]
    }
   ],
   "source": [
    "# default arguments\n",
    "print(\"Hello {}, your BMI is {}.\".format(\"Rajan\",  188.3675))\n",
    "\n",
    "# positional arguments\n",
    "print(\"Hello {0}, your BMI is {1}.\".format(\"Rajan\",  188.3675))\n",
    "\n",
    "# keyword arguments\n",
    "print(\"Hello {name}, your BMI is {bmi}.\".format(name=\"Rajan\", bmi= 188.3675))\n"
   ]
  },
  {
   "cell_type": "markdown",
   "metadata": {},
   "source": [
    "### number/float formatting with format()"
   ]
  },
  {
   "cell_type": "markdown",
   "metadata": {},
   "source": [
    "You can use the same general syntax used in \"% formatting\" here as well. We just need to skip the \"%\" sign and follow the exact syntax given above in \"old style formatting\" section. We can look at some examples for a better understanding. "
   ]
  },
  {
   "cell_type": "code",
   "execution_count": 6,
   "metadata": {},
   "outputs": [
    {
     "data": {
      "text/plain": [
       "'Hello, Rajan. Your BMI is    188.37'"
      ]
     },
     "execution_count": 6,
     "metadata": {},
     "output_type": "execute_result"
    }
   ],
   "source": [
    "'Hello, {0}. Your BMI is {1:9.2f}'.format(\"Rajan\", 188.3675 )"
   ]
  },
  {
   "cell_type": "markdown",
   "metadata": {},
   "source": [
    "Let's try to understand \"1:9.2f\". Here 1 signifies the variable index to be substituted i.e the variable at position 1, and everything after \":\" is similar to what we did in % formatting. \"9\" gives the width(number of characters to be printed), \".2\" gives the precision after decimal and f signifies that the argument is a float. Similarly "
   ]
  },
  {
   "cell_type": "markdown",
   "metadata": {},
   "source": [
    "### formatting with alignment"
   ]
  },
  {
   "cell_type": "code",
   "execution_count": null,
   "metadata": {},
   "outputs": [],
   "source": [
    "The operators <, ^, > and = are used for alignment when we assign extra width to the numbers."
   ]
  },
  {
   "cell_type": "code",
   "execution_count": 9,
   "metadata": {},
   "outputs": [
    {
     "name": "stdout",
     "output_type": "stream",
     "text": [
      "|    15|\n",
      "|    15|\n",
      "|  12.235  |\n",
      "|12000|\n",
      "|-          12.235|\n"
     ]
    }
   ],
   "source": [
    "# right alignment\n",
    "print(\"|{:>6d}|\".format(15))\n",
    "print(\"|{:6d}|\".format(15))\n",
    "\n",
    "# float numbers with center alignment\n",
    "print(\"|{:^10.3f}|\".format(15.3146))\n",
    "\n",
    "# left alignment padded with zeros\n",
    "print(\"|{:<05d}|\".format(12))\n",
    "\n",
    "# Forces the sign (+) (-) to the leftmost position\n",
    "print(\"|{:=17.3f}|\".format(-15.3146))"
   ]
  },
  {
   "cell_type": "markdown",
   "metadata": {},
   "source": [
    "### String formatting and truncation with format()"
   ]
  },
  {
   "cell_type": "code",
   "execution_count": 11,
   "metadata": {},
   "outputs": [
    {
     "name": "stdout",
     "output_type": "stream",
     "text": [
      "|foo  |\n",
      "|foo  |\n",
      "|  foo|\n",
      "| foo |\n",
      "|*foo*|\n"
     ]
    }
   ],
   "source": [
    "#As numbers, string can be formatted in a similar way with format().\n",
    "\n",
    "# padding with left alignment\n",
    "print(\"|{:5}|\".format(\"foo\"))\n",
    "print(\"|{:<5}|\".format(\"foo\"))\n",
    "\n",
    "# padding with right alignment\n",
    "print(\"|{:>5}|\".format(\"foo\"))\n",
    "\n",
    "# padding with center alignment\n",
    "print(\"|{:^5}|\".format(\"foo\"))\n",
    "\n",
    "# padding with center alignment and '*' padding character\n",
    "print(\"|{:*^5}|\".format(\"foo\"))"
   ]
  },
  {
   "cell_type": "code",
   "execution_count": 9,
   "metadata": {},
   "outputs": [
    {
     "name": "stdout",
     "output_type": "stream",
     "text": [
      "|foo|\n",
      "|foo  |\n",
      "| foo |\n"
     ]
    }
   ],
   "source": [
    "# truncating strings to 3 letters\n",
    "print(\"|{:.3}|\".format(\"foobar\"))\n",
    "\n",
    "# truncating strings to 3 letters and padding\n",
    "print(\"|{:5.3}|\".format(\"foobar\"))\n",
    "\n",
    "# truncating strings to 3 letters,padding and center alignment\n",
    "print(\"|{:^5.3}|\".format(\"foobar\"))"
   ]
  },
  {
   "cell_type": "markdown",
   "metadata": {},
   "source": [
    "### Formatting class and dictionary members using format()"
   ]
  },
  {
   "cell_type": "code",
   "execution_count": 17,
   "metadata": {},
   "outputs": [
    {
     "name": "stdout",
     "output_type": "stream",
     "text": [
      "Rajan's BMI is: 188\n"
     ]
    }
   ],
   "source": [
    "# define candidate class\n",
    "class candidate:\n",
    "    bmi = 188\n",
    "    name = \"Rajan\"\n",
    "\n",
    "print(\"{c1.name}'s BMI is: {c1.bmi}\".format(c1=candidate()))"
   ]
  },
  {
   "cell_type": "code",
   "execution_count": 20,
   "metadata": {},
   "outputs": [
    {
     "name": "stdout",
     "output_type": "stream",
     "text": [
      "Rajan's age is: 188\n",
      "Rajan's age is: 188\n"
     ]
    }
   ],
   "source": [
    "# define candidate dictionary\n",
    "candidate = {'bmi': 188, 'name': 'Rajan'}\n",
    "\n",
    "print(\"{c1[name]}'s age is: {c1[bmi]}\".format(c1=candidate))\n",
    "\n",
    "print(\"{name}'s age is: {bmi}\".format(**candidate))"
   ]
  },
  {
   "cell_type": "markdown",
   "metadata": {},
   "source": [
    "You can also pass precision, padding, fill character as positional or keyword arguments dynamically."
   ]
  },
  {
   "cell_type": "code",
   "execution_count": 21,
   "metadata": {},
   "outputs": [
    {
     "name": "stdout",
     "output_type": "stream",
     "text": [
      "*cat*\n",
      "123.24  \n",
      "*****Rajan*****! your BMI is ***188.3425****\n"
     ]
    }
   ],
   "source": [
    "# template\n",
    "string = \"{:{fill}{align}{width}}\"\n",
    "use_str = \"{name:{fill}{align}{width}}! your BMI is {bmi:{fill}{align}{width}}\"\n",
    "# passing arguments\n",
    "print(string.format('cat', fill='*', align='^', width=5))\n",
    "\n",
    "# float template\n",
    "num = \"{:{align}{width}.{precision}f}\"\n",
    "\n",
    "# passing arguments\n",
    "print(num.format(123.236, align='<', width=8, precision=2))\n",
    "\n",
    "#How to use dynamic keyword arguments in a string,\n",
    "#we can use different keyword arguments to \n",
    "#fix dynamic arguments for different variables, e.g. fill1 for name, fill2 to bmi etc . \n",
    "print(use_str.format(name=\"Rajan\", bmi = 188.3425, fill='*', align='^', width=15))"
   ]
  },
  {
   "cell_type": "markdown",
   "metadata": {},
   "source": [
    "## Python f-strings"
   ]
  },
  {
   "cell_type": "markdown",
   "metadata": {},
   "source": [
    "Python 3.6 has new string formatting method called “formatted string literals”. f-strings are string templates that have an f at the beginning and curly braces containing expressions(variables) that will be replaced with their values declared anywhere above the string template. The variables are evaluated at runtime and then formatted internally using the format method. \n",
    "\n",
    "This new string formatting is a powerful method. Because f-strings are evaluated at runtime, we can input arbitrary Python expressions and we can do inline arithmetic with it.\n",
    "f-strings are faster than both %-formatting and str.format() as f-strings are expressions evaluated at runtime so they . \n"
   ]
  },
  {
   "cell_type": "code",
   "execution_count": 19,
   "metadata": {},
   "outputs": [
    {
     "name": "stdout",
     "output_type": "stream",
     "text": [
      "Hello Rajan! Welcome to Python\n",
      "12 times 3 is 36.\n"
     ]
    }
   ],
   "source": [
    "name = 'Rajan'\n",
    "program = 'Python'\n",
    "print(f'Hello {name}! Welcome to {program}')\n",
    "\n",
    "a = 12\n",
    "b = 3\n",
    "print(f'12 times 3 is {a * b}.')"
   ]
  },
  {
   "cell_type": "markdown",
   "metadata": {},
   "source": [
    "We can also call functions as expressions or call the methods directly. have a look at this example:"
   ]
  },
  {
   "cell_type": "code",
   "execution_count": 31,
   "metadata": {},
   "outputs": [
    {
     "name": "stdout",
     "output_type": "stream",
     "text": [
      "RAJAN! Welcome to PYTHON\n",
      "RAJAN! Welcome to PYTHON\n"
     ]
    }
   ],
   "source": [
    "def uppercase(input):\n",
    "    return input.upper()\n",
    "\n",
    "print(f\"{uppercase(name)}! Welcome to {uppercase(program)}\")\n",
    "\n",
    "print(f\"{name.upper()}! Welcome to {program.upper()}\")"
   ]
  },
  {
   "cell_type": "code",
   "execution_count": 24,
   "metadata": {
    "scrolled": true
   },
   "outputs": [
    {
     "name": "stdout",
     "output_type": "stream",
     "text": [
      "Hi Rajan. Welcome to Python. \n",
      "\n",
      "Hi Rajan.\n",
      "Welcome to Python.\n",
      "     \n"
     ]
    }
   ],
   "source": [
    "#you can use multiple lines like this.\n",
    "message = (\n",
    "     f\"Hi {name}. \"\n",
    "     f\"Welcome to {program}. \"\n",
    " )\n",
    "\n",
    "print(message)\n",
    "\n",
    "message = f\"\"\"\n",
    "Hi {name}.\n",
    "Welcome to {program}.\n",
    "     \"\"\"\n",
    "print(message)"
   ]
  },
  {
   "cell_type": "markdown",
   "metadata": {},
   "source": [
    "### Using Dictionaries"
   ]
  },
  {
   "cell_type": "code",
   "execution_count": 43,
   "metadata": {},
   "outputs": [
    {
     "name": "stdout",
     "output_type": "stream",
     "text": [
      "Hello Rajan! Welcome to python\n"
     ]
    }
   ],
   "source": [
    "Vars = {'name': 'Rajan', 'program':'python'}\n",
    "print(f\"Hello {Vars['name']}! Welcome to {Vars['program']}\")"
   ]
  },
  {
   "cell_type": "code",
   "execution_count": 45,
   "metadata": {},
   "outputs": [
    {
     "ename": "SyntaxError",
     "evalue": "invalid syntax (<ipython-input-45-e352427250aa>, line 3)",
     "output_type": "error",
     "traceback": [
      "\u001b[0;36m  File \u001b[0;32m\"<ipython-input-45-e352427250aa>\"\u001b[0;36m, line \u001b[0;32m3\u001b[0m\n\u001b[0;31m    print(f'Hello {Vars['name']}! Welcome to {Vars['program']}')\u001b[0m\n\u001b[0m                            ^\u001b[0m\n\u001b[0;31mSyntaxError\u001b[0m\u001b[0;31m:\u001b[0m invalid syntax\n"
     ]
    }
   ],
   "source": [
    "#make sure using different quotation marks inside and outside the f-string.\n",
    "Vars = {'name': 'Rajan', 'program':'python'}\n",
    "print(f'Hello {Vars['name']}! Welcome to {Vars['program']}')"
   ]
  },
  {
   "cell_type": "markdown",
   "metadata": {},
   "source": [
    "### Some minute details."
   ]
  },
  {
   "cell_type": "markdown",
   "metadata": {},
   "source": [
    "we can use various types of quotation marks inside the expressions. Just make sure you are not using the same type of quotation mark on the outside of the f-string as we are using in the expression."
   ]
  },
  {
   "cell_type": "code",
   "execution_count": 28,
   "metadata": {},
   "outputs": [
    {
     "data": {
      "text/plain": [
       "'Ashwani Rajan'"
      ]
     },
     "execution_count": 28,
     "metadata": {},
     "output_type": "execute_result"
    }
   ],
   "source": [
    "f\"{'Ashwani Rajan'}\""
   ]
  },
  {
   "cell_type": "code",
   "execution_count": 29,
   "metadata": {},
   "outputs": [
    {
     "data": {
      "text/plain": [
       "'Ashwani Rajan'"
      ]
     },
     "execution_count": 29,
     "metadata": {},
     "output_type": "execute_result"
    }
   ],
   "source": [
    "f'{\"Ashwani Rajan\"}'"
   ]
  },
  {
   "cell_type": "code",
   "execution_count": 34,
   "metadata": {},
   "outputs": [
    {
     "data": {
      "text/plain": [
       "'Hi Rajan! \"Welcome\" to Python.'"
      ]
     },
     "execution_count": 34,
     "metadata": {},
     "output_type": "execute_result"
    }
   ],
   "source": [
    "#we can use same type of quotation mark on both \n",
    "#the inside and the outside of the string by using escape with \\\n",
    "f\"Hi {name}! \\\"Welcome\\\" to {program}.\""
   ]
  },
  {
   "cell_type": "code",
   "execution_count": 37,
   "metadata": {},
   "outputs": [
    {
     "ename": "SyntaxError",
     "evalue": "f-string expression part cannot include a backslash (<ipython-input-37-676acfe44bc9>, line 2)",
     "output_type": "error",
     "traceback": [
      "\u001b[0;36m  File \u001b[0;32m\"<ipython-input-37-676acfe44bc9>\"\u001b[0;36m, line \u001b[0;32m2\u001b[0m\n\u001b[0;31m    f\"{\\\"Ashwani Rajan\\\"}\"\u001b[0m\n\u001b[0m                          ^\u001b[0m\n\u001b[0;31mSyntaxError\u001b[0m\u001b[0;31m:\u001b[0m f-string expression part cannot include a backslash\n"
     ]
    }
   ],
   "source": [
    "# However, you can’t use backslashes to escape in the expression part i.e. the part inside \"{}\" of an f-string:\n",
    "f\"{\\\"Ashwani Rajan\\\"}\""
   ]
  },
  {
   "cell_type": "code",
   "execution_count": 40,
   "metadata": {
    "scrolled": true
   },
   "outputs": [
    {
     "ename": "SyntaxError",
     "evalue": "f-string expression part cannot include '#' (<ipython-input-40-cf88ff2515f6>, line 2)",
     "output_type": "error",
     "traceback": [
      "\u001b[0;36m  File \u001b[0;32m\"<ipython-input-40-cf88ff2515f6>\"\u001b[0;36m, line \u001b[0;32m2\u001b[0m\n\u001b[0;31m    f\"Hi! Welcome to {program #python}.\"\u001b[0m\n\u001b[0m                                        ^\u001b[0m\n\u001b[0;31mSyntaxError\u001b[0m\u001b[0;31m:\u001b[0m f-string expression part cannot include '#'\n"
     ]
    }
   ],
   "source": [
    "#Expressions should not include comments using the # symbol.\n",
    "f\"Hi! Welcome to {program #python}.\""
   ]
  },
  {
   "cell_type": "markdown",
   "metadata": {},
   "source": [
    "## Template Strings "
   ]
  },
  {
   "cell_type": "markdown",
   "metadata": {},
   "source": [
    "Template strings is another tool for string formatting. It’s a simpler and less powerful mechanism, but in some cases, it can come in handy."
   ]
  },
  {
   "cell_type": "markdown",
   "metadata": {},
   "source": [
    "This format uses \"$\" as placeholder with placeholder name immediately following it. "
   ]
  },
  {
   "cell_type": "code",
   "execution_count": 2,
   "metadata": {},
   "outputs": [
    {
     "data": {
      "text/plain": [
       "'Hi, Rajan!'"
      ]
     },
     "execution_count": 2,
     "metadata": {},
     "output_type": "execute_result"
    }
   ],
   "source": [
    "from string import Template \n",
    "name = 'Rajan'\n",
    "tmp = Template('Hi, $name!')\n",
    "tmp.substitute(name=name)"
   ]
  },
  {
   "cell_type": "markdown",
   "metadata": {},
   "source": [
    "Template strings don’t allow format specifiers. So we need to manually transform between types."
   ]
  },
  {
   "cell_type": "code",
   "execution_count": 3,
   "metadata": {},
   "outputs": [
    {
     "data": {
      "text/plain": [
       "'Hi, Rajan!. Your age is 23'"
      ]
     },
     "execution_count": 3,
     "metadata": {},
     "output_type": "execute_result"
    }
   ],
   "source": [
    "name = 'Rajan'\n",
    "age = 23.000\n",
    "tmp = Template('Hi, $name!. Your age is $age')\n",
    "tmp.substitute(name=name, age = int(age))"
   ]
  },
  {
   "cell_type": "code",
   "execution_count": 4,
   "metadata": {},
   "outputs": [
    {
     "name": "stdout",
     "output_type": "stream",
     "text": [
      "Hi Rajan, your marks are 96 from 100\n",
      "Hi Ankit, your marks are 82 from 100\n",
      "Hi Sharma, your marks are 75 from 100\n"
     ]
    }
   ],
   "source": [
    "# Student stores the name and marks of three students \n",
    "Student = [('Rajan',96), ('Ankit',82), ('Sharma',75)] \n",
    " \n",
    "t = Template('Hi $name, your marks are $marks from 100') \n",
    "  \n",
    "for i in Student: \n",
    "     print (t.substitute(name = i[0], marks = i[1])) "
   ]
  }
 ],
 "metadata": {
  "kernelspec": {
   "display_name": "Python 3",
   "language": "python",
   "name": "python3"
  },
  "language_info": {
   "codemirror_mode": {
    "name": "ipython",
    "version": 3
   },
   "file_extension": ".py",
   "mimetype": "text/x-python",
   "name": "python",
   "nbconvert_exporter": "python",
   "pygments_lexer": "ipython3",
   "version": "3.7.0"
  }
 },
 "nbformat": 4,
 "nbformat_minor": 2
}
