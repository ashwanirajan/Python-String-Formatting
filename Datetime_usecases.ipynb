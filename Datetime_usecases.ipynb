{
 "cells": [
  {
   "cell_type": "markdown",
   "metadata": {},
   "source": [
    "# Working with Date and Time in python"
   ]
  },
  {
   "cell_type": "markdown",
   "metadata": {},
   "source": [
    "Date object = datetime.date(year, month, date)\n",
    "Time object = datetime.time(hour, minute, second, microsecond, tzinfo, fold)\n",
    "datetime object = datetime.datetime(year, month, day, hour, minute, second, microsecond, tzinfo, fold)\n",
    "timedelta object = datetime.timedelta(days, seconds, microseconds, milliseconds, minutes, hours, weeks)"
   ]
  },
  {
   "cell_type": "markdown",
   "metadata": {},
   "source": [
    "## Strings - datetime conversion."
   ]
  },
  {
   "cell_type": "markdown",
   "metadata": {},
   "source": [
    "The date and time format are different for different countries. It's more common to use mm/dd/yyyy in the US, whereas dd/mm/yyyy in the UK.\n",
    "\n",
    "We use strftime() and strptime() methods to handle this.\n",
    "\n",
    "strftime() -this method is defined under classes date, datetime and time. It converts datetime object to a given string format. The method creates a formatted string from a given date, datetime or time object. Output is a string. \n",
    "\n",
    "For time objects, the format codes for year, month, and day should not be used, as time objects have no such values. If they’re used anyway, 1900 is substituted for the year, and 1 for the month and day.\n",
    "\n",
    "For date objects, the format codes for hours, minutes, seconds, and microseconds should not be used, as date objects have no such values. If they’re used anyway, 0 is substituted for them.\n",
    "\n",
    "For the datetime.strptime() class method, the default value is 1900-01-01 00:00:00.000: any components not specified in the format string will be pulled from the default value. "
   ]
  },
  {
   "cell_type": "code",
   "execution_count": 4,
   "metadata": {},
   "outputs": [
    {
     "name": "stdout",
     "output_type": "stream",
     "text": [
      "time: 23:35:14\n",
      "23:35\n",
      "07:23\n",
      "s1: 07/04/2019, 23:35:14\n",
      "s2: 04/07/2019, 23:35:14\n"
     ]
    }
   ],
   "source": [
    "# Format date using strftime()\n",
    "from datetime import datetime\n",
    "# to get current date and time\n",
    "dt_nw = datetime.now()\n",
    "\n",
    "t = dt_nw.strftime(\"%H:%M:%S\")\n",
    "print(\"time:\", t)\n",
    "\n",
    "t1 = dt_nw.strftime(\"%H:%M\")\n",
    "print(t1)\n",
    "\n",
    "t2 = dt_nw.strftime(\"%m:%H\")\n",
    "print(t2)\n",
    "\n",
    "s1 = dt_nw.strftime(\"%m/%d/%Y, %H:%M:%S\")\n",
    "# mm/dd/YY H:M:S format\n",
    "print(\"s1:\", s1)\n",
    "\n",
    "s2 = dt_nw.strftime(\"%d/%m/%Y, %H:%M:%S\")\n",
    "# dd/mm/YY H:M:S format\n",
    "\n",
    "print(\"s2:\", s2)\n",
    "#t, s1, s2 are strings"
   ]
  },
  {
   "cell_type": "markdown",
   "metadata": {},
   "source": [
    "Here, %Y, %m, %d, %H etc. are format codes. The strftime() method takes one or more format codes and returns a formatted string based on it.\n",
    "\n",
    "%Y - year \n",
    "%m - month\n",
    "%d - day\n",
    "%H - hour \n",
    "%M - month\n",
    "%B - Month as locale’s full name.\n",
    "%b - Month as locale’s abbreviated name.\n",
    "%S - second\n",
    "%a - Weekday as locale’s abbreviated name\n",
    "%A - Weekday as locale’s full name.\n",
    "\n",
    "etc. (https://docs.python.org/3/library/datetime.html)"
   ]
  },
  {
   "cell_type": "markdown",
   "metadata": {},
   "source": [
    "Python strptime() -This method is again defined under classes date, datetime and time. The strptime() method creates a datetime object from a given string representing date and/or time.\n",
    "\n",
    "The strptime() method takes two arguments: a string representing date and time and a format code which is arranged equivalent to the string, i.e. it has the format codes for each component in the same order as in the string."
   ]
  },
  {
   "cell_type": "code",
   "execution_count": 6,
   "metadata": {},
   "outputs": [
    {
     "name": "stdout",
     "output_type": "stream",
     "text": [
      "date_string = 21 June, 2018\n",
      "date_object = 2018-06-21 00:00:00\n",
      "date_object = 2006-11-21 16:30:00\n"
     ]
    }
   ],
   "source": [
    "#strptime()\n",
    "from datetime import datetime\n",
    "date_string = \"21 June, 2018\"\n",
    "print(\"date_string =\", date_string)\n",
    "\n",
    "date_object = datetime.strptime(date_string, \"%d %B, %Y\")\n",
    "print(\"date_object =\", date_object)\n",
    "\n",
    "dt = datetime.strptime(\"21/11/06 16:30\", \"%d/%m/%y %H:%M\")\n",
    "print(\"date_object =\", dt)"
   ]
  },
  {
   "cell_type": "markdown",
   "metadata": {},
   "source": [
    "### Using ctime() method"
   ]
  },
  {
   "cell_type": "markdown",
   "metadata": {},
   "source": [
    "This method is defined under classes date and datetime. It returns a string representing the date and time in a particular fixed format for the corresponding date/datetime object on which the method is applied."
   ]
  },
  {
   "cell_type": "code",
   "execution_count": 13,
   "metadata": {},
   "outputs": [
    {
     "name": "stdout",
     "output_type": "stream",
     "text": [
      "Tue Feb 14 20:10:44 2012\n",
      "Tue Feb 14 00:00:00 2012\n"
     ]
    }
   ],
   "source": [
    "from datetime import datetime, date\n",
    "\n",
    "print(datetime(2012, 2, 14, 20, 10, 44).ctime())\n",
    "print(date(2012, 2, 14).ctime())"
   ]
  },
  {
   "cell_type": "markdown",
   "metadata": {},
   "source": [
    "### Using format() method"
   ]
  },
  {
   "cell_type": "markdown",
   "metadata": {},
   "source": [
    "We can simply use format() and input the datetime components as an object, like the example of object as input that we did in string fromatting. The placeholders are format codes which are discussed above."
   ]
  },
  {
   "cell_type": "code",
   "execution_count": 24,
   "metadata": {},
   "outputs": [
    {
     "name": "stdout",
     "output_type": "stream",
     "text": [
      "2001-Feb-03 04::05:33\n",
      "2001-February-03 05\n"
     ]
    }
   ],
   "source": [
    "import string\n",
    "from datetime import datetime\n",
    "\n",
    "print('{:%Y-%b-%d %H::%M:%S}'.format(datetime(2001, 2, 3, 4, 5, 33)))\n",
    "print('{:%Y-%B-%d %M}'.format(datetime(2001, 2, 3, 4, 5)))"
   ]
  },
  {
   "cell_type": "markdown",
   "metadata": {},
   "source": [
    "## Timestamp - Datetime conversion"
   ]
  },
  {
   "cell_type": "markdown",
   "metadata": {},
   "source": [
    "fromtimestamp() : This method is a part of date and datetime classes. A timestamp is the number of seconds between a particular date and January 1, 1970 at UTC(Universal Time Coordinated). You can convert a timestamp to date using this method.\n",
    "\n",
    "timestamp() : This method is fond only in datetime class. This returns a timestamp corresponding to the datetime object. The return value is a float similar to that returned by time.time()"
   ]
  },
  {
   "cell_type": "code",
   "execution_count": 17,
   "metadata": {},
   "outputs": [
    {
     "name": "stdout",
     "output_type": "stream",
     "text": [
      "1562265419.106501\n",
      "2019-07-05\n",
      "2019-07-05 00:06:59.106501\n"
     ]
    }
   ],
   "source": [
    "from datetime import datetime, date\n",
    "# to get current date and time\n",
    "dt_nw = datetime.now()\n",
    "\n",
    "print(dt_nw.timestamp())\n",
    "print(date.fromtimestamp(dt_nw.timestamp()))\n",
    "print(datetime.fromtimestamp(dt_nw.timestamp()))"
   ]
  },
  {
   "cell_type": "markdown",
   "metadata": {},
   "source": [
    "## Timedelta and Operations in datetime"
   ]
  },
  {
   "cell_type": "markdown",
   "metadata": {},
   "source": [
    "### timedelta"
   ]
  },
  {
   "cell_type": "markdown",
   "metadata": {},
   "source": [
    "A timedelta object represents the difference between two dates or times or datetimes. The difference is always given in the format \"x Days, HH:MM:SS.mmmmmm\".\n",
    "\n",
    "Note that the differences between dates and datetimes are given as timedelta objects. look at the examples below. "
   ]
  },
  {
   "cell_type": "code",
   "execution_count": 10,
   "metadata": {
    "scrolled": true
   },
   "outputs": [
    {
     "name": "stdout",
     "output_type": "stream",
     "text": [
      "t3 = -53 days, 0:00:00\n",
      "t6 = -1947 days, 1:34:40\n",
      "t6 = 00:00:00\n",
      "type of t3 = <class 'datetime.timedelta'>\n",
      "type of t6 = <class 'datetime.timedelta'>\n"
     ]
    }
   ],
   "source": [
    "from datetime import datetime, date, time, tzinfo\n",
    "t_1 = date(year = 2012, month = 12, day = 12)\n",
    "t_2 = date(year = 2013, month = 2, day = 3)\n",
    "t_3 = t_1 - t_2\n",
    "\n",
    "print(\"t3 =\", t_3)\n",
    "\n",
    "t_4 = datetime(year = 2013, month = 12, day = 12, hour = 17, minute = 29, second = 53)\n",
    "t_5 = datetime(year = 2019, month = 4, day = 12, hour = 15, minute = 55, second = 13)\n",
    "t_6 = t_4 - t_5\n",
    "\n",
    "print(\"t6 =\", t_6)\n",
    "\n",
    "print(\"type of t3 =\", type(t_3)) \n",
    "print(\"type of t6 =\", type(t_6))  "
   ]
  },
  {
   "cell_type": "markdown",
   "metadata": {},
   "source": [
    "### Operations using date, time,datetime and timedelta"
   ]
  },
  {
   "cell_type": "markdown",
   "metadata": {},
   "source": [
    "Timedelta objects support the following operations:\n",
    "\n",
    "t1 = t2 + t3.\n",
    "\n",
    "t1 = t2 - t3.\n",
    "\n",
    "t1 = t2 * i or t1 = i * t2.\n",
    "\n",
    "t1 = t2 * f or t1 = f * t2.\n",
    "\n",
    "f = t2 / t3.\n",
    "\n",
    "t1 = t2 / f or t1 = t2 / i.\n",
    "\n",
    "t1 = t2 % t3.\n",
    "\n",
    "abs(t) : returns absolute value of t.\n",
    "\n",
    "str(t) : returns t as string.\n",
    "\n",
    "\n",
    "where i = integer and f = float."
   ]
  },
  {
   "cell_type": "markdown",
   "metadata": {},
   "source": [
    "Date/datetime objects support the following operations:\n",
    "\n",
    "\n",
    "datetime2/date2 = datetime1/date1 + timedelta object.\n",
    "\n",
    "datetime2/date2 = datetime1/date1 - timedelta object.\n",
    "\n",
    "timedelta = datetime1/date1 - datetime2/date2 object.\n",
    "\n",
    "datetime1/date1 < datetime2/date2 : this compares datetime(date) to datetime(date). "
   ]
  },
  {
   "cell_type": "code",
   "execution_count": 9,
   "metadata": {},
   "outputs": [
    {
     "name": "stdout",
     "output_type": "stream",
     "text": [
      "date object1 = 2012-12-12\n",
      "date object2 = 2013-02-03\n",
      "timedelta object1 = -53 days, 0:00:00\n",
      "datetime object1 = 2013-12-12 17:29:53\n",
      "datetime object2 = 2019-04-12 15:55:13\n",
      "timedelta object2 = -1947 days, 1:34:40\n",
      "addition operation on date objects :  2012-10-20\n",
      "subtraction operation on date objects :  2013-02-03\n",
      "comparison operation on date objects : t_1 < t_2 =  True\n",
      "addition operation on timedelta objects :  -2000 days, 1:34:40\n",
      "subtraction operation on timedelta objects :  1893 days, 22:25:20\n",
      "integer multiplication operation on timedelta objects :  -106 days, 0:00:00\n",
      "float multiplication operation on timedelta objects :  -7399 days, 15:35:44\n",
      "absolute operation on timedelta objects :  1946 days, 22:25:20\n",
      "string operation on timedelta objects :  -1947 days, 1:34:40\n"
     ]
    }
   ],
   "source": [
    "from datetime import datetime, date, time\n",
    "\n",
    "t_1 = date(year = 2012, month = 12, day = 12)\n",
    "print(\"date object1 =\", t_1)\n",
    "\n",
    "t_2 = date(year = 2013, month = 2, day = 3)\n",
    "print(\"date object2 =\", t_2)\n",
    "\n",
    "td_1 = t_1 - t_2 #timedelta object\n",
    "\n",
    "print(\"timedelta object1 =\" ,td_1)\n",
    "\n",
    "dt_1 = datetime(year = 2013, month = 12, day = 12, hour = 17, minute = 29, second = 53)\n",
    "print(\"datetime object1 =\", dt_1)\n",
    "\n",
    "dt_2 = datetime(year = 2019, month = 4, day = 12, hour = 15, minute = 55, second = 13)\n",
    "print(\"datetime object2 =\", dt_2)\n",
    "\n",
    "td_2 = dt_1 - dt_2 #timedelta object\n",
    "print(\"timedelta object2 =\", td_2)\n",
    "\n",
    "#Date operations \n",
    "#similar operatons for datetime objects\n",
    "\n",
    "t_3 = t_1 + td_1\n",
    "t_4 = t_1 - td_1\n",
    "\n",
    "print(\"addition operation on date objects : \", t_3)\n",
    "print(\"subtraction operation on date objects : \",t_4)\n",
    "print(\"comparison operation on date objects : t_1 < t_2 = \", t_1<t_2 )\n",
    "\n",
    "\n",
    "print(\"addition operation on timedelta objects : \", td_1 + td_2)\n",
    "print(\"subtraction operation on timedelta objects : \",td_1 - td_2)\n",
    "\n",
    "print(\"integer multiplication operation on timedelta objects : \", 2*td_1)\n",
    "print(\"float multiplication operation on timedelta objects : \",3.8*td_2)\n",
    "\n",
    "print(\"absolute operation on timedelta objects : \",abs(td_2))\n",
    "print(\"string operation on timedelta objects : \",str(td_2))"
   ]
  },
  {
   "cell_type": "markdown",
   "metadata": {},
   "source": [
    "## Find dates/datetime before or after a certain time period."
   ]
  },
  {
   "cell_type": "markdown",
   "metadata": {},
   "source": [
    "-------------------------New addition --------------------------------------------------\n",
    "\n",
    "\n",
    "We can use the above operations to calculate date/datetime before or after a certain period of a given date. Please look at the below example"
   ]
  },
  {
   "cell_type": "code",
   "execution_count": 5,
   "metadata": {},
   "outputs": [
    {
     "name": "stdout",
     "output_type": "stream",
     "text": [
      "initial date= 2012-12-12\n",
      "resulting date after 5 weeks = 2013-01-16\n",
      "initial datetime = 2013-12-12 17:29:53\n",
      "resulting date and time after 3 weeks, 2 days, 6 hours and 23 seconds = 2013-11-19 11:29:30\n"
     ]
    }
   ],
   "source": [
    "from datetime import datetime, date, time, timedelta\n",
    "\n",
    "date_1 = date(year = 2012, month = 12, day = 12)\n",
    "print(\"initial date=\", date_1)\n",
    "\n",
    "#to find the date after 5 weeks of the given date.\n",
    "timedelta_1 = timedelta(weeks =5)\n",
    "\n",
    "date_2 = date_1 + timedelta_1\n",
    "print(\"resulting date after 5 weeks =\", date_2)\n",
    "\n",
    "\n",
    "dt_1 = datetime(year = 2013, month = 12, day = 12, hour = 17, minute = 29, second = 53)\n",
    "print(\"initial datetime =\", dt_1)\n",
    "\n",
    "#to find the date and time before a certain period of the given date and time.\n",
    "timedelta_2 = timedelta(weeks = 3, days = 2, hours = 6, seconds = 23)\n",
    "\n",
    "dt_2 = dt_1 - timedelta_2\n",
    "print(\"resulting date and time before 3 weeks, 2 days, 6 hours and 23 seconds =\", dt_2)\n",
    "\n",
    "#-------------------------New addition --------------------------------------------------"
   ]
  },
  {
   "cell_type": "markdown",
   "metadata": {},
   "source": [
    "Please note that in \"addition/subtraction operation on date objects\", we use a date object and timedelta object."
   ]
  },
  {
   "cell_type": "markdown",
   "metadata": {},
   "source": [
    "## timezone handling in Python"
   ]
  },
  {
   "cell_type": "markdown",
   "metadata": {},
   "source": [
    "Till now, we were dealing with datetime objects which do not have any timezone info, i.e. for most objects \"tzinfo = None\". In some cases, we need to display date and time based on the timezone. Rather than trying to handle the complications of timezone by ourselves, we can use a third-party pytZ module."
   ]
  },
  {
   "cell_type": "code",
   "execution_count": 12,
   "metadata": {},
   "outputs": [
    {
     "name": "stdout",
     "output_type": "stream",
     "text": [
      "None\n"
     ]
    }
   ],
   "source": [
    "import datetime\n",
    "\n",
    "#no timezone information, therefore timezone naive\n",
    "d1 = datetime.datetime.now()\n",
    "print(d1.tzinfo)"
   ]
  },
  {
   "cell_type": "markdown",
   "metadata": {},
   "source": [
    "We can simply use the pytz library to initiate a timezone object. Every date, time or datetime object has a variant of tzinfo attribute or tz attribute. We can just equate the newly created timezone object to these attributes.\n",
    "\n",
    "Or alternatively, We can initiate a timezone object, and then we use that timezone object to \"localize\" a datetime object. Localizing means simply giving the object timezone information. \n"
   ]
  },
  {
   "cell_type": "code",
   "execution_count": 31,
   "metadata": {},
   "outputs": [
    {
     "name": "stdout",
     "output_type": "stream",
     "text": [
      "2019-04-12 15:55:13-07:53\n",
      "2019-04-12 15:55:13\n",
      "2019-07-05 03:14:08.457846-07:00\n",
      "\n",
      "\n",
      "2019-07-05 15:44:08.458295-07:00\n",
      "America/Los_Angeles\n"
     ]
    }
   ],
   "source": [
    "import datetime\n",
    "import pytz\n",
    "\n",
    "time_z = pytz.timezone(\"America/Los_Angeles\")\n",
    "d_r = datetime.datetime(year = 2019, month = 4, day = 12, hour = 15, minute = 55, second = 13, tzinfo = time_z)\n",
    "d_r1 = datetime.datetime(year = 2019, month = 4, day = 12, hour = 15, minute = 55, second = 13, tzinfo = None)\n",
    "d_us = datetime.datetime.now(tz = time_z)\n",
    "print(d_r)\n",
    "print(d_r1)\n",
    "print(d_us)\n",
    "print(\"\\n\")\n",
    "#Using localize method\n",
    "\n",
    "d = datetime.datetime.now()\n",
    "time_z = pytz.timezone(\"America/Los_Angeles\")\n",
    "d1 = time_z.localize(d)\n",
    "print(d1)\n",
    "print(d1.tzinfo)"
   ]
  },
  {
   "cell_type": "code",
   "execution_count": 25,
   "metadata": {},
   "outputs": [
    {
     "name": "stdout",
     "output_type": "stream",
     "text": [
      "Local time :  07/05/2019, 15:05:52\n",
      "NY: 07/05/2019, 05:35:52\n",
      "London: 07/05/2019, 10:59:35\n",
      "Random time: 12/12/2013, 17:29:53\n",
      "value of tzinfo attribute for Random time: Europe/London\n"
     ]
    }
   ],
   "source": [
    "from datetime import datetime\n",
    "\n",
    "import pytz\n",
    "local_time = datetime.now()\n",
    "print(\"Local time : \", local.strftime(\"%m/%d/%Y, %H:%M:%S\"))\n",
    "\n",
    "## create a timezone object\n",
    "timez_NY = pytz.timezone('America/New_York') \n",
    "dt_NY = datetime.now(tz = timez_NY)\n",
    "print(\"NY:\", datetime_NY.strftime(\"%m/%d/%Y, %H:%M:%S\"))\n",
    "\n",
    "## create a timezone object\n",
    "tz_London = pytz.timezone('Europe/London')\n",
    "dt_London = datetime.now( tz = tz_London)\n",
    "\n",
    "dt_random = datetime(year = 2013, month = 12, day = 12, hour = 17, minute = 29, second = 53, tzinfo = tz_London)\n",
    "print(\"London:\", dt_London.strftime(\"%m/%d/%Y, %H:%M:%S\"))\n",
    "print(\"Random time:\", dt_random.strftime(\"%m/%d/%Y, %H:%M:%S\"))\n",
    "print(\"value of tzinfo attribute for Random time:\",dt_random.tzinfo)"
   ]
  },
  {
   "cell_type": "markdown",
   "metadata": {},
   "source": [
    "## References"
   ]
  },
  {
   "cell_type": "markdown",
   "metadata": {},
   "source": [
    "https://www.programiz.com/python-programming/datetime#timedelta\n",
    "\n",
    "https://docs.python.org/3/library/datetime.html\n",
    "\n",
    "https://howchoo.com/g/ywi5m2vkodk/working-with-datetime-objects-and-timezones-in-python\n",
    "\n",
    "https://www.w3schools.com/python/python_datetime.asp"
   ]
  }
 ],
 "metadata": {
  "kernelspec": {
   "display_name": "Python 3",
   "language": "python",
   "name": "python3"
  },
  "language_info": {
   "codemirror_mode": {
    "name": "ipython",
    "version": 3
   },
   "file_extension": ".py",
   "mimetype": "text/x-python",
   "name": "python",
   "nbconvert_exporter": "python",
   "pygments_lexer": "ipython3",
   "version": "3.7.0"
  }
 },
 "nbformat": 4,
 "nbformat_minor": 2
}
