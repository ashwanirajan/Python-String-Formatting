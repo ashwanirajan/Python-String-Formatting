{
 "cells": [
  {
   "cell_type": "markdown",
   "metadata": {},
   "source": [
    "# Datetime Module in Python"
   ]
  },
  {
   "cell_type": "markdown",
   "metadata": {},
   "source": [
    "Python has datetime module to work with dates and times. The Python datetime module offers functions and classes for working with date and time parsing, formatting, and arithmetic. Let's have a look at some basic operations."
   ]
  },
  {
   "cell_type": "code",
   "execution_count": 7,
   "metadata": {},
   "outputs": [
    {
     "name": "stdout",
     "output_type": "stream",
     "text": [
      "2019-07-04 20:47:26.831629\n",
      "2019-07-04\n"
     ]
    }
   ],
   "source": [
    "#Get Current Date and Time\n",
    "import datetime\n",
    "datetime_obj = datetime.datetime.now()\n",
    "print(datetime_obj)\n",
    "\n",
    "#Get Current Date\n",
    "date_obj = datetime.date.today()\n",
    "print(date_obj)"
   ]
  },
  {
   "cell_type": "markdown",
   "metadata": {},
   "source": [
    "As always, we imported datetime module using \"import datetime\" statement.\n",
    "\n",
    "Datetime module has a few important classes. We will look at them as we move further. Here, we use the datetime class. We then used now() method in datetime class(of datetime module) to create a datetime object containing the current date and time.\n",
    "\n",
    "In the next example, we have used today() method in the date class to get a date object containing the local date."
   ]
  },
  {
   "cell_type": "markdown",
   "metadata": {},
   "source": [
    "Now We will look individually at each component of the datetime module. \n",
    "\n",
    "The datetime module has two constants:"
   ]
  },
  {
   "cell_type": "code",
   "execution_count": 8,
   "metadata": {},
   "outputs": [
    {
     "name": "stdout",
     "output_type": "stream",
     "text": [
      "1\n",
      "9999\n"
     ]
    }
   ],
   "source": [
    "print(datetime.MINYEAR)\n",
    "print(datetime.MAXYEAR)"
   ]
  },
  {
   "cell_type": "markdown",
   "metadata": {},
   "source": [
    "datetime.MINYEAR\n",
    "The smallest year number allowed in a date or datetime object. MINYEAR is 1.\n",
    "\n",
    "datetime.MAXYEAR\n",
    "The largest year number allowed in a date or datetime object. MAXYEAR is 9999."
   ]
  },
  {
   "cell_type": "markdown",
   "metadata": {},
   "source": [
    "We have six classes in datetime module:\n",
    "    1. class datetime.date\n",
    "    2. class datetime.time\n",
    "    3. class datetime.datetime\n",
    "    4. class datetime.timedelta\n",
    "    5. class datetime.tzinfo\n",
    "    6. class datetime.timezone\n",
    "    \n",
    "We will look at the top four classes in detail. These are the most used classes. After that, we will specifically look at few important operations like conversion to different formats and datetime formatting. "
   ]
  },
  {
   "cell_type": "markdown",
   "metadata": {},
   "source": [
    "## Class datetime.date "
   ]
  },
  {
   "cell_type": "markdown",
   "metadata": {},
   "source": [
    "You can initialize date objects from the date class. A date object represents a date (year, month and day). The object takes three input numbers, i.e year, month and date.\n",
    "date_obj = class datetime.date(year, month, day)\n",
    "    MINYEAR <= year <= MAXYEAR\n",
    "    1 <= month <= 12\n",
    "    1 <= day <= number of days in the given month and year\n",
    "    \n",
    "ValueError is raised if the inputs are outside the specified ranges."
   ]
  },
  {
   "cell_type": "code",
   "execution_count": 9,
   "metadata": {},
   "outputs": [
    {
     "name": "stdout",
     "output_type": "stream",
     "text": [
      "2019-04-13\n"
     ]
    }
   ],
   "source": [
    "#Date object to represent a date\n",
    "dt = datetime.date(2019, 4, 13)\n",
    "print(dt)"
   ]
  },
  {
   "cell_type": "markdown",
   "metadata": {},
   "source": [
    "### Class Methods"
   ]
  },
  {
   "cell_type": "raw",
   "metadata": {},
   "source": [
    "First, we will look at important class methods in date class. Note that for class methods, we need not necessarily define an object, these methods work with or without defining an object. Look at the example below for better understanding. \n",
    "   For example: \n",
    "    today() :Return the current local date.\n",
    "    fromtimestamp(timestamp): A Unix timestamp is the number of seconds between a particular date and January 1, 1970 at UTC(Universal Time Coordinated). You can convert a timestamp to date using fromtimestamp() method."
   ]
  },
  {
   "cell_type": "code",
   "execution_count": 10,
   "metadata": {
    "scrolled": true
   },
   "outputs": [
    {
     "name": "stdout",
     "output_type": "stream",
     "text": [
      "Current date = 2019-07-04\n",
      "Current date = 2019-07-04\n",
      "\n",
      "\n",
      "Date = 2012-01-11\n",
      "Date = 2012-01-11\n"
     ]
    }
   ],
   "source": [
    "#today method\n",
    "from datetime import date\n",
    "today = date.today()\n",
    "print(\"Current date =\", today)\n",
    "print(\"Current date =\", date.today())\n",
    "print('\\n')\n",
    "#timestamp method\n",
    "timestamp = date.fromtimestamp(1326244364)\n",
    "print(\"Date =\", timestamp)\n",
    "print(\"Date =\", date.fromtimestamp(1326244364))"
   ]
  },
  {
   "cell_type": "markdown",
   "metadata": {},
   "source": [
    "### Instance Methods"
   ]
  },
  {
   "cell_type": "markdown",
   "metadata": {},
   "source": [
    "Next, we look at some important instance attributes. Instance attributes work only on date objects created correspondng to date class.\n",
    "\n",
    "date.replace(year, month, day) : Return a date with the same value, except for those parameters given new values by  keyword arguments inside braces. \n",
    "\n",
    "date.weekday() : Return the day of the week as an integer. starting form Monday = 0 to Sunday = 6.\n",
    "\n",
    "date.isoweekday() : Return the day of the week as an integer, where Monday is 1 and Sunday is 7. Based on ISO calendar(https://www.staff.science.uu.nl/~gent0113/calendar/isocalendar.htm) \n",
    "\n",
    "date.isocalendar() : Return a 3-tuple (ISO year, ISO week number, ISO weekday).\n",
    "\n",
    "date.isoformat() : Return a string representing the date in ISO 8601 format, ‘YYYY-MM-DD’.\n",
    "\n",
    "date.ctime() : Return a string representing the date, e.g. date(2002, 12, 4).ctime() = 'Wed Dec 4 00:00:00 2002'. \n",
    "\n",
    "-------------------------New addition --------------------------------------------------\n",
    "Note  : date.ctime()(and datetime.ctime()) outputs the corresponding date in a particular string format given above. We have another module called Time(not to be confused with datetime module's time class) which deals with complex date and time operations, which has the same \".ctime()\" method, but in this case, .ctime(secs) takes input as seconds from epoch and returns the corresponding date and time in the format \"\".\n",
    "-------------------------New addition --------------------------------------------------\n",
    "\n",
    "\n",
    "date.strftime(format) : Return a date string in the given format, controlled by a defined string template. (See https://docs.python.org/3/library/datetime.html#strftime-strptime-behavior for details on formatting and placeholders)\n"
   ]
  },
  {
   "cell_type": "code",
   "execution_count": 11,
   "metadata": {},
   "outputs": [
    {
     "name": "stdout",
     "output_type": "stream",
     "text": [
      "2017-06-14\n",
      "2017-06-30\n",
      "weekday = 4\n",
      "Iso weekday = 5\n",
      "ISO calendar = (2017, 26, 5)\n",
      "ISO format = 2017-06-30\n",
      "date string = Fri Jun 30 00:00:00 2017\n",
      "date string in dd/mm/yy format = 30/06/17\n"
     ]
    }
   ],
   "source": [
    "### Replace method\n",
    "date_obj = date(2017, 6, 14)\n",
    "print(date_obj)\n",
    "\n",
    "d2 = date_obj.replace(day = 30)\n",
    "print(d2)\n",
    "\n",
    "### weekday, isoweekday, isocalendar method\n",
    "print(\"weekday = \" + str(d2.weekday()))\n",
    "print(\"Iso weekday = \" + str(d2.isoweekday()))\n",
    "print(\"ISO calendar = {d}\".format(d = d2.isocalendar()))\n",
    "print(\"ISO format = {d}\".format(d = d2.isoformat()))\n",
    "print(\"date string = {d}\".format(d = d2.ctime()))\n",
    "print(\"date string in dd/mm/yy format = {d}\".format(d = d2.strftime('%d/%m/%y')))"
   ]
  },
  {
   "cell_type": "markdown",
   "metadata": {},
   "source": [
    "### Attributes"
   ]
  },
  {
   "cell_type": "markdown",
   "metadata": {},
   "source": [
    "Date class attributes:\n",
    "Note that for class attributes, we need not necessarily define a date object. Look at the example below for better understanding. \n",
    "\n",
    "date.min : The earliest representable date i.e. the object corresponding to date(MINYEAR, 1, 1).\n",
    "\n",
    "date.max : The latest representable date i.e. the object corresponding to date(MAXYEAR, 12, 31).\n",
    "\n",
    "date.resolution : The smallest possible difference between two different dates, i.e. the object corresponding to timedelta(days=1).\n",
    "\n",
    "read-only instance attributes:\n",
    "\n",
    "date.year : any output between MINYEAR and MAXYEAR, it gives the year of corresponding date object.\n",
    "\n",
    "date.month : any output between 1 and 12 including both, it gives the month of corresponding date object.\n",
    "\n",
    "date.day : any output between 1 and the number of days in the given month of the given year, all data from the given date object."
   ]
  },
  {
   "cell_type": "code",
   "execution_count": 12,
   "metadata": {},
   "outputs": [
    {
     "name": "stdout",
     "output_type": "stream",
     "text": [
      "0001-01-01\n",
      "0001-01-01\n",
      "\n",
      "\n",
      "9999-12-31\n",
      "9999-12-31\n",
      "\n",
      "\n",
      "2019\n",
      "7\n",
      "4\n"
     ]
    }
   ],
   "source": [
    "from datetime import date\n",
    "\n",
    "# create a date object named tdy\n",
    "tdy = date.today()\n",
    "\n",
    "# class attributes, work with or without defining the date object\n",
    "print(tdy.min)\n",
    "print(date.min)\n",
    "print('\\n')\n",
    "# class attributes, work with or without defining the date object\n",
    "print(tdy.max)\n",
    "print(date.max)\n",
    "print('\\n')\n",
    "#read-only instance attributes\n",
    "print(tdy.year)\n",
    "print(tdy.month)\n",
    "print(tdy.day)"
   ]
  },
  {
   "cell_type": "markdown",
   "metadata": {},
   "source": [
    "## Class datetime.time"
   ]
  },
  {
   "cell_type": "markdown",
   "metadata": {},
   "source": [
    "A time object represents a particular local time of day, independent of any particular day and can be adjusted by a tzinfo object corresponding to tzinfo class.\n",
    "\n",
    "time_obj = datetime.time(hour=0, minute=0, second=0, microsecond=0, tzinfo=None, fold =0)\n",
    "\n",
    "0 <= hour < 24,\n",
    "0 <= minute < 60,\n",
    "0 <= second < 60,\n",
    "0 <= microsecond < 1000000,\n",
    "fold in [0, 1]."
   ]
  },
  {
   "cell_type": "code",
   "execution_count": 5,
   "metadata": {},
   "outputs": [
    {
     "name": "stdout",
     "output_type": "stream",
     "text": [
      "t0 = 00:00:00\n",
      "t1 = 11:34:56\n",
      "t2 = 11:34:56\n",
      "t3 = 11:34:56.234566\n"
     ]
    }
   ],
   "source": [
    "from datetime import time\n",
    "\n",
    "# time(hour = 0, minute = 0, second = 0)\n",
    "a = time()\n",
    "print(\"t0 =\", a)\n",
    "# time(hour, minute and second)\n",
    "b = time(11, 34, 56)\n",
    "print(\"t1 =\", b)\n",
    "# time(hour, minute and second)\n",
    "c = time(hour = 11, minute = 34, second = 56)\n",
    "print(\"t2 =\", c)\n",
    "# time(hour, minute, second, microsecond)\n",
    "d = time(11, 34, 56, 234566)\n",
    "print(\"t3 =\", d)"
   ]
  },
  {
   "cell_type": "markdown",
   "metadata": {},
   "source": [
    "### Class Methods"
   ]
  },
  {
   "cell_type": "markdown",
   "metadata": {},
   "source": [
    "time.fromisoformat('time_string') : Returns time corresponding to a string of time as input. the input can be in any of the string formats given by time.isoformat()."
   ]
  },
  {
   "cell_type": "code",
   "execution_count": 7,
   "metadata": {
    "scrolled": true
   },
   "outputs": [
    {
     "name": "stdout",
     "output_type": "stream",
     "text": [
      "12:34:56\n",
      "12:34:56\n"
     ]
    }
   ],
   "source": [
    "dt = time(hour=12, minute=34, second=56, microsecond=0)\n",
    "\n",
    "print(time.fromisoformat(dt.isoformat(timespec='microseconds')))\n",
    "print(time.fromisoformat(dt.isoformat(timespec='auto')))\n"
   ]
  },
  {
   "cell_type": "markdown",
   "metadata": {},
   "source": [
    "### Instance Methods"
   ]
  },
  {
   "cell_type": "markdown",
   "metadata": {},
   "source": [
    "time.isoformat(timespec='auto') : This returns a string representing the time in ISO 8601 format.\n",
    "\n",
    "Timespec specifies the components of the time to which is to be included. \n",
    "\n",
    "    'auto': (default)if microsecond is 0, the format is similar to 'seconds', otherwise similar to 'microseconds'.\n",
    "    'hours': Hour in the two-digit HH format.\n",
    "    'minutes': Add hour and minute in HH:MM format.\n",
    "    'seconds': Add hour, minute, and second in HH:MM:SS format.\n",
    "    'milliseconds': Include full time, but fractional second part is to milliseconds. HH:MM:SS.sss format.\n",
    "    'microseconds': Include full time in HH:MM:SS.ffffff format.\n",
    "    \n",
    "time.utcoffset() : A time offset is an amount of time subtracted from or added to Coordinated Universal Time (UTC) time to get the current time. If tzinfo is None, this returns None, else returns the time offset(a timedelta object with magnitude less than one day).\n",
    "\n",
    "time.tzname() : If tzinfo is None, returns None, else returns the timezone name.\n",
    "\n",
    "Instance methods like replace() and strftime() work similar to their date class counterparts."
   ]
  },
  {
   "cell_type": "code",
   "execution_count": 15,
   "metadata": {},
   "outputs": [
    {
     "name": "stdout",
     "output_type": "stream",
     "text": [
      "None\n",
      "12:34:56\n",
      "None\n"
     ]
    }
   ],
   "source": [
    "dt = time(hour=12, minute=34, second=56, microsecond=0)\n",
    "\n",
    "print(dt.utcoffset())\n",
    "print(dt.isoformat(timespec='seconds'))\n",
    "print(dt.tzname())"
   ]
  },
  {
   "cell_type": "markdown",
   "metadata": {},
   "source": [
    "### Attributes"
   ]
  },
  {
   "cell_type": "markdown",
   "metadata": {},
   "source": [
    "Class attributes:\n",
    "\n",
    "time.min : The earliest representable time i.e. time(0, 0, 0, 0).\n",
    "\n",
    "time.max : The last representable time i.e. time(23, 59, 59, 999999).\n",
    "\n",
    "time.resolution : The smallest possible difference between non-equal time objects i.e. timedelta(microseconds=1).\n",
    "\n",
    "Read-only Instance attributes :\n",
    "\n",
    "time.hour : Output the hour component of time in range(0,24)\n",
    "\n",
    "time.minute : Output the minutes component in range(0,60).\n",
    "\n",
    "time.second : Output the seconds component in range(0, 60).\n",
    "\n",
    "time.microsecond : Output the microseconds component in range(0,1000000).\n",
    "\n",
    "time.tzinfo : Outputs the object passed as the tzinfo argument(which gives time zone information) or None if none was passed.\n",
    "\n",
    "time.fold : It is used to differenciate similar wall times during a repeated interval. (A repeated interval occurs when clocks are rolled back at the end of daylight saving time(dst) or when the UTC offset for the current zone is decreased for political reasons.) The value 0 represents the earlier and 1 represents later of the two moments with the same wall time representation."
   ]
  },
  {
   "cell_type": "code",
   "execution_count": 16,
   "metadata": {},
   "outputs": [
    {
     "name": "stdout",
     "output_type": "stream",
     "text": [
      "00:00:00\n",
      "23:59:59.999999\n",
      "0:00:00.000001\n",
      "\n",
      "\n",
      "12\n",
      "56\n",
      "0\n"
     ]
    }
   ],
   "source": [
    "dt = time(hour=12, minute=34, second=56, microsecond=0)\n",
    "#class attributes\n",
    "print(time.min)\n",
    "print(time.max)\n",
    "print(time.resolution)\n",
    "print('\\n')\n",
    "#instance Attributes\n",
    "print(dt.hour)\n",
    "print(dt.second)\n",
    "print(dt.fold)"
   ]
  },
  {
   "cell_type": "markdown",
   "metadata": {},
   "source": [
    "## Class datetime.datetime"
   ]
  },
  {
   "cell_type": "markdown",
   "metadata": {},
   "source": [
    "The datetime module has a class named dateclass that can contain information from both date and time objects.\n",
    "\n",
    "class datetime.datetime(year, month, day, hour=0, minute=0, second=0, microsecond=0, tzinfo=None, fold=0)"
   ]
  },
  {
   "cell_type": "code",
   "execution_count": 17,
   "metadata": {},
   "outputs": [
    {
     "name": "stdout",
     "output_type": "stream",
     "text": [
      "2018-11-28 00:00:00\n",
      "2017-11-28 23:55:59.342380\n"
     ]
    }
   ],
   "source": [
    "#Python datetime object\n",
    "from datetime import datetime\n",
    "#datetime(year, month, day)\n",
    "a = datetime(2018, 11, 28)\n",
    "print(a)\n",
    "# datetime(year, month, day, hour, minute, second, microsecond)\n",
    "b = datetime(2017, 11, 28, 23, 55, 59, 342380)\n",
    "print(b)"
   ]
  },
  {
   "cell_type": "markdown",
   "metadata": {},
   "source": [
    "### Class Methods"
   ]
  },
  {
   "cell_type": "markdown",
   "metadata": {},
   "source": [
    "We have class methods similar to the date and time classes in datetime classes as well. These include datetime.today(), datetime.fromtimestamp(timestamp, tz=None) and datetime.fromisoformat(date_string). Some new class methods are discussed below:\n",
    "\n",
    "datetime.combine(date, time) : Return a new datetime object whose date components are equal to the given date object’s, and whose time components are equal to the given time object’s.\n",
    "\n",
    "datetime.now(tz=None) : Return the current local date and time. If optional argument tz is None or not specified, this is like today()\n",
    "\n",
    "datetime.strptime(date_string, format) : Return a datetime object corresponding to a date string, parsed according to the given datetime format."
   ]
  },
  {
   "cell_type": "code",
   "execution_count": 18,
   "metadata": {},
   "outputs": [
    {
     "name": "stdout",
     "output_type": "stream",
     "text": [
      "2019-07-04 20:47:55.899245\n",
      "2018-11-28 23:55:59.342380\n",
      "2006-11-21 16:30:00\n"
     ]
    },
    {
     "data": {
      "text/plain": [
       "datetime.datetime(2006, 11, 21, 16, 30)"
      ]
     },
     "execution_count": 18,
     "metadata": {},
     "output_type": "execute_result"
    }
   ],
   "source": [
    "#datetime.now() method\n",
    "print(datetime.now())\n",
    "\n",
    "#datetime.combine() method\n",
    "a = datetime(2018, 11, 28)\n",
    "b = datetime(2017, 11, 28, 23, 55, 59, 342380)\n",
    "print(datetime.combine(a.date(), b.time()))\n",
    "\n",
    "#datetime.strptime method\n",
    "dt=datetime.strptime(\"21/11/06 16:30\", \"%d/%m/%y %H:%M\")\n",
    "print(dt)\n",
    "dt"
   ]
  },
  {
   "cell_type": "markdown",
   "metadata": {},
   "source": [
    "### Instance Methods"
   ]
  },
  {
   "cell_type": "markdown",
   "metadata": {},
   "source": [
    "We have datetime.date(), datetime.time(), datetime.replace(), datetime.tzname(), datetime.utcoffset(), datetime.weekday(), datetime.isoweekday(), datetime.isoformat(), datetime.ctime(), datetime.strftime(), datetime.timestampetc instance methods similar to the ones seen in date and time classes."
   ]
  },
  {
   "cell_type": "markdown",
   "metadata": {},
   "source": [
    "### Attributes"
   ]
  },
  {
   "cell_type": "markdown",
   "metadata": {},
   "source": [
    "Class attributes : We have the similar class attributes as in previous classes i.e, datetime.max, datetime.min and datetime.resolution which work similar to previous cases.\n",
    "\n",
    "Read-only attributes : we have attributes like datetime.year, month, day, hour, minute, second, microsecond, tzinfo and flod, all of which are obvious and are covered in previous sections  "
   ]
  },
  {
   "cell_type": "markdown",
   "metadata": {},
   "source": [
    "## Class datetime.timedelta"
   ]
  },
  {
   "cell_type": "markdown",
   "metadata": {},
   "source": [
    "A timedelta object represents a duration, the difference between two dates or times.\n",
    "\n",
    "class datetime.timedelta(days, seconds, microseconds, milliseconds, minutes, hours, weeks)\n",
    "All arguments are optional and default to 0. Arguments may be integers or floats, and may be positive or negative.\n",
    "\n",
    "Only days, seconds and microseconds are stored internally. Rest arguments are converted to those units.\n",
    "\n",
    "Please note that, although while defining, the timedelta object takes in optional inputs as days, seconds, microseconds, milliseconds, minutes, hours and weeks, it only stores the data in microseconds, seconds and days. So weeks are converted to days and added to \"days\" input argument, hours and minutes are converted to seconds and added to the \"seconds\" argument given as input and milliseconds are converted to microseconds and added the \"microseconds\" input argument. \n",
    "\n",
    "0 <= microseconds < 1000000\n",
    "\n",
    "0 <= seconds < 3600*24 (the number of seconds in one day)\n",
    "\n",
    "-999999999 <= days <= 999999999\n"
   ]
  },
  {
   "cell_type": "code",
   "execution_count": 10,
   "metadata": {},
   "outputs": [
    {
     "name": "stdout",
     "output_type": "stream",
     "text": [
      "23 days, 6:00:23.100000\n",
      "76 days, 1:44:34\n"
     ]
    }
   ],
   "source": [
    "from datetime import timedelta\n",
    "\n",
    "t1 = timedelta(weeks = 3, days = 2, hours = 6, seconds = 23, milliseconds = 100)\n",
    "print(t1)\n",
    "\n",
    "##default time format is printed, i.e. milliseconds are printed in microseconds.\n",
    "\n",
    "t2 = timedelta(weeks = 5, days = 41, hours = 1, minutes = 44, seconds = 34)\n",
    "print(t2)"
   ]
  },
  {
   "cell_type": "code",
   "execution_count": 11,
   "metadata": {},
   "outputs": [
    {
     "data": {
      "text/plain": [
       "6572674.0"
      ]
     },
     "execution_count": 11,
     "metadata": {},
     "output_type": "execute_result"
    }
   ],
   "source": [
    "#Instance method timedelta.total_seconds()\n",
    "#Return the total number of seconds contained in the duration.\n",
    "\n",
    "t2 = timedelta(weeks = 5, days = 41, hours = 1, minutes = 44, seconds = 34)\n",
    "t2.total_seconds()"
   ]
  },
  {
   "cell_type": "markdown",
   "metadata": {},
   "source": [
    "### Attributes"
   ]
  },
  {
   "cell_type": "markdown",
   "metadata": {},
   "source": [
    "We have similar class attributes as in previous classes, i.e. min, max and resolution.\n",
    "\n",
    "We have days, seconds and microseconds as instance attributes. Please note that we don't have hours or minutes or weeks as instance attributes as they are all converted to days, seconds and microseconds while storing."
   ]
  },
  {
   "cell_type": "code",
   "execution_count": 12,
   "metadata": {},
   "outputs": [
    {
     "name": "stdout",
     "output_type": "stream",
     "text": [
      "23\n",
      "21623\n",
      "100000\n"
     ]
    },
    {
     "ename": "AttributeError",
     "evalue": "'datetime.timedelta' object has no attribute 'hours'",
     "output_type": "error",
     "traceback": [
      "\u001b[0;31m---------------------------------------------------------------------------\u001b[0m",
      "\u001b[0;31mAttributeError\u001b[0m                            Traceback (most recent call last)",
      "\u001b[0;32m<ipython-input-12-8a537652366b>\u001b[0m in \u001b[0;36m<module>\u001b[0;34m()\u001b[0m\n\u001b[1;32m      6\u001b[0m \u001b[0mprint\u001b[0m\u001b[0;34m(\u001b[0m\u001b[0mt2\u001b[0m\u001b[0;34m.\u001b[0m\u001b[0mmicroseconds\u001b[0m\u001b[0;34m)\u001b[0m\u001b[0;34m\u001b[0m\u001b[0m\n\u001b[1;32m      7\u001b[0m \u001b[0;34m\u001b[0m\u001b[0m\n\u001b[0;32m----> 8\u001b[0;31m \u001b[0mprint\u001b[0m\u001b[0;34m(\u001b[0m\u001b[0mt2\u001b[0m\u001b[0;34m.\u001b[0m\u001b[0mhours\u001b[0m\u001b[0;34m)\u001b[0m\u001b[0;34m\u001b[0m\u001b[0m\n\u001b[0m",
      "\u001b[0;31mAttributeError\u001b[0m: 'datetime.timedelta' object has no attribute 'hours'"
     ]
    }
   ],
   "source": [
    "t2 = timedelta(weeks = 3, days = 2, hours = 6, seconds = 23, milliseconds = 100)\n",
    "\n",
    "#instance attributes\n",
    "print(t2.days)\n",
    "print(t2.seconds)\n",
    "print(t2.microseconds)\n",
    "\n",
    "#this shows an error\n",
    "print(t2.hours)"
   ]
  },
  {
   "cell_type": "markdown",
   "metadata": {},
   "source": [
    "## References"
   ]
  },
  {
   "cell_type": "markdown",
   "metadata": {},
   "source": [
    "https://www.programiz.com/python-programming/datetime#timedelta\n",
    "\n",
    "https://docs.python.org/3/library/datetime.html\n",
    "\n",
    "https://howchoo.com/g/ywi5m2vkodk/working-with-datetime-objects-and-timezones-in-python\n",
    "\n",
    "https://www.w3schools.com/python/python_datetime.asp\n"
   ]
  }
 ],
 "metadata": {
  "kernelspec": {
   "display_name": "Python 3",
   "language": "python",
   "name": "python3"
  },
  "language_info": {
   "codemirror_mode": {
    "name": "ipython",
    "version": 3
   },
   "file_extension": ".py",
   "mimetype": "text/x-python",
   "name": "python",
   "nbconvert_exporter": "python",
   "pygments_lexer": "ipython3",
   "version": "3.7.0"
  }
 },
 "nbformat": 4,
 "nbformat_minor": 2
}
